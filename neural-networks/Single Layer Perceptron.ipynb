{
 "cells": [
  {
   "cell_type": "code",
   "execution_count": 2,
   "metadata": {
    "scrolled": true
   },
   "outputs": [],
   "source": [
    "import numpy as np\n",
    "import pandas as pd\n",
    "import matplotlib.pyplot as plt\n",
    "from mlxtend.plotting import plot_decision_regions\n",
    "\n",
    "%matplotlib inline"
   ]
  },
  {
   "cell_type": "code",
   "execution_count": 3,
   "metadata": {},
   "outputs": [],
   "source": [
    "df = pd.read_csv('https://archive.ics.uci.edu/ml/machine-learning-databases/iris/iris.data', names=[\n",
    "    'sepal length in cm',\n",
    "    'sepal width in cm',\n",
    "    'petal length in cm',\n",
    "    'petal width in cm',\n",
    "    'class'\n",
    "])"
   ]
  },
  {
   "cell_type": "code",
   "execution_count": 4,
   "metadata": {},
   "outputs": [
    {
     "data": {
      "text/html": [
       "<div>\n",
       "<style scoped>\n",
       "    .dataframe tbody tr th:only-of-type {\n",
       "        vertical-align: middle;\n",
       "    }\n",
       "\n",
       "    .dataframe tbody tr th {\n",
       "        vertical-align: top;\n",
       "    }\n",
       "\n",
       "    .dataframe thead th {\n",
       "        text-align: right;\n",
       "    }\n",
       "</style>\n",
       "<table border=\"1\" class=\"dataframe\">\n",
       "  <thead>\n",
       "    <tr style=\"text-align: right;\">\n",
       "      <th></th>\n",
       "      <th>sepal length in cm</th>\n",
       "      <th>sepal width in cm</th>\n",
       "      <th>petal length in cm</th>\n",
       "      <th>petal width in cm</th>\n",
       "      <th>class</th>\n",
       "    </tr>\n",
       "  </thead>\n",
       "  <tbody>\n",
       "    <tr>\n",
       "      <th>0</th>\n",
       "      <td>5.1</td>\n",
       "      <td>3.5</td>\n",
       "      <td>1.4</td>\n",
       "      <td>0.2</td>\n",
       "      <td>Iris-setosa</td>\n",
       "    </tr>\n",
       "    <tr>\n",
       "      <th>1</th>\n",
       "      <td>4.9</td>\n",
       "      <td>3.0</td>\n",
       "      <td>1.4</td>\n",
       "      <td>0.2</td>\n",
       "      <td>Iris-setosa</td>\n",
       "    </tr>\n",
       "    <tr>\n",
       "      <th>2</th>\n",
       "      <td>4.7</td>\n",
       "      <td>3.2</td>\n",
       "      <td>1.3</td>\n",
       "      <td>0.2</td>\n",
       "      <td>Iris-setosa</td>\n",
       "    </tr>\n",
       "    <tr>\n",
       "      <th>3</th>\n",
       "      <td>4.6</td>\n",
       "      <td>3.1</td>\n",
       "      <td>1.5</td>\n",
       "      <td>0.2</td>\n",
       "      <td>Iris-setosa</td>\n",
       "    </tr>\n",
       "    <tr>\n",
       "      <th>4</th>\n",
       "      <td>5.0</td>\n",
       "      <td>3.6</td>\n",
       "      <td>1.4</td>\n",
       "      <td>0.2</td>\n",
       "      <td>Iris-setosa</td>\n",
       "    </tr>\n",
       "  </tbody>\n",
       "</table>\n",
       "</div>"
      ],
      "text/plain": [
       "   sepal length in cm  sepal width in cm  petal length in cm  \\\n",
       "0                 5.1                3.5                 1.4   \n",
       "1                 4.9                3.0                 1.4   \n",
       "2                 4.7                3.2                 1.3   \n",
       "3                 4.6                3.1                 1.5   \n",
       "4                 5.0                3.6                 1.4   \n",
       "\n",
       "   petal width in cm        class  \n",
       "0                0.2  Iris-setosa  \n",
       "1                0.2  Iris-setosa  \n",
       "2                0.2  Iris-setosa  \n",
       "3                0.2  Iris-setosa  \n",
       "4                0.2  Iris-setosa  "
      ]
     },
     "execution_count": 4,
     "metadata": {},
     "output_type": "execute_result"
    }
   ],
   "source": [
    "df.head()"
   ]
  },
  {
   "cell_type": "code",
   "execution_count": 5,
   "metadata": {},
   "outputs": [],
   "source": [
    "class Perceptron(object):\n",
    "    \"\"\"\n",
    "    Um perceptron simples com componentes simples.\n",
    "    \"\"\"\n",
    "    \n",
    "    def __init__(self, learning_rate=0.01, epochs=50, verbose=False):\n",
    "        \"\"\"\n",
    "        Inicializa o perceptron com os valores de\n",
    "        learning rate (taxa de aprendizado), epochs e um\n",
    "        parametro de verbose para que o perceptron \n",
    "        \"\"\"\n",
    "        self.verbose = verbose\n",
    "        self.learning_rate = learning_rate\n",
    "        self.epochs = epochs\n",
    "        \n",
    "        if(self.verbose is True):\n",
    "            print(\"[>] Perceptron parameters:\\n- learning rate: {}\\n- # epochs: {}\".format(\n",
    "                self.learning_rate,\n",
    "                self.epochs\n",
    "            ))\n",
    "    \n",
    "    def _sum(self, X):\n",
    "        dp = np.dot(X, self._weights) + self._bias\n",
    "        \n",
    "        if(self.verbose is True):\n",
    "            print(\"[!] Aggregation ({} and {}) + weight {} = {}\".format(\n",
    "                X,\n",
    "                self._weights,\n",
    "                self._bias,\n",
    "                dp\n",
    "            ))\n",
    "        return dp\n",
    "    \n",
    "    def _activation(self, value):\n",
    "        return np.where(value >= 0.0, 1, -1)\n",
    "\n",
    "    def fit(self, X, y):\n",
    "        \"\"\"\n",
    "        Starts with weights as a numpy zero array.\n",
    "        \"\"\"\n",
    "        self._bias = np.random.uniform(-1, 1)\n",
    "        self._weights = np.random.uniform(-1, 1, (X.shape[1]))\n",
    "        self._errors = []\n",
    "        \n",
    "        if(self.verbose is True):\n",
    "            print(\"[>>] Starting training routine:\\n- initial weights: {}\\n- initial errors: {}\".format(\n",
    "                self._weights,\n",
    "                self._errors\n",
    "            ))\n",
    "            print(\"- train set (X): {}\\n- train set (y): {}\\n---\".format(\n",
    "                X,\n",
    "                y\n",
    "            ))\n",
    "\n",
    "        for epoch_number in range(self.epochs):\n",
    "            errors = 0\n",
    "            \n",
    "            if(self.verbose is True):\n",
    "                print(\"[>>] Entering epoch {}\\n- weights: {}\\n- errors: {}\".format(\n",
    "                    epoch_number,\n",
    "                    self._weights,\n",
    "                    self._errors\n",
    "                ))\n",
    "            \n",
    "            for xi, target in zip(X, y):\n",
    "                if(self.verbose is True):\n",
    "                    print(\"[!] Learning xi = {} (target {})\".format(xi, target))\n",
    "                \n",
    "                output = self.predict(xi)\n",
    "                update = self.learning_rate * (target - output)\n",
    "                \n",
    "                if(self.verbose is True):\n",
    "                    print(\"[!] {} = {}({} - {})\".format(\n",
    "                        update,\n",
    "                        self.learning_rate,\n",
    "                        target,\n",
    "                        output\n",
    "                    ))\n",
    "                    print(\"[<] weights was {}\".format(self._weights))\n",
    "                \n",
    "                self._bias += update\n",
    "                \n",
    "                self._weights += update * xi\n",
    "                \n",
    "                if(self.verbose is True):\n",
    "                    print(\"[>] weights are now {}\".format(self._weights))\n",
    "                \n",
    "                errors += int(update != 0.0)\n",
    "                \n",
    "                if(self.verbose is True):\n",
    "                    print(\"-\")\n",
    "                \n",
    "            self._errors.append(errors)\n",
    "            \n",
    "            if(self.verbose is True):\n",
    "                print(\"--\")\n",
    "        \n",
    "        \n",
    "        return self\n",
    "    \n",
    "    def predict(self, X):\n",
    "        result = self._activation(self._sum(X))\n",
    "        \n",
    "        if(self.verbose is True):\n",
    "            print(\"[?] Should fire? (is >= 0): {}\".format(\n",
    "                result\n",
    "            ))\n",
    "        \n",
    "        return result"
   ]
  },
  {
   "cell_type": "code",
   "execution_count": 6,
   "metadata": {},
   "outputs": [
    {
     "data": {
      "image/png": "[encoded data removed]",
      "text/plain": [
       "<Figure size 432x288 with 1 Axes>"
      ]
     },
     "metadata": {
      "needs_background": "light"
     },
     "output_type": "display_data"
    },
    {
     "data": {
      "image/png": "[encoded data removed]",
      "text/plain": [
       "<Figure size 432x288 with 1 Axes>"
      ]
     },
     "metadata": {
      "needs_background": "light"
     },
     "output_type": "display_data"
    }
   ],
   "source": [
    "# Setosa = -1, 1 otherwise\n",
    "sample = df.sample(100)\n",
    "true_is = 'Iris-setosa'\n",
    "\n",
    "y = np.where(sample['class'].values == true_is, 1, -1)\n",
    "\n",
    "# sepal length and petal length\n",
    "X = sample[['petal length in cm',\n",
    "    'petal width in cm']].values\n",
    "\n",
    "ppn = Perceptron(epochs=20, learning_rate=0.001, verbose=False)\n",
    "\n",
    "ppn.fit(X, y)\n",
    "\n",
    "plot_decision_regions(X, y, clf=ppn)\n",
    "plt.title('Perceptron')\n",
    "plt.xlabel('petal length in cm')\n",
    "plt.ylabel('petal width in cm')\n",
    "plt.show()\n",
    "\n",
    "plt.plot(range(1, len(ppn._errors)+1), ppn._errors, marker='o')\n",
    "plt.xlabel('Iterations')\n",
    "plt.ylabel('Misclassifications')\n",
    "plt.show()"
   ]
  },
  {
   "cell_type": "code",
   "execution_count": 8,
   "metadata": {},
   "outputs": [
    {
     "data": {
      "image/png": "[encoded data removed]",
      "text/plain": [
       "<Figure size 432x288 with 1 Axes>"
      ]
     },
     "metadata": {
      "needs_background": "light"
     },
     "output_type": "display_data"
    },
    {
     "data": {
      "image/png": "[encoded data removed]",
      "text/plain": [
       "<Figure size 432x288 with 1 Axes>"
      ]
     },
     "metadata": {
      "needs_background": "light"
     },
     "output_type": "display_data"
    }
   ],
   "source": [
    "# Setosa = -1, 1 otherwise\n",
    "sample = df.sample(100)\n",
    "true_is = 'Iris-virginica'\n",
    "\n",
    "y = np.where(sample['class'].values == true_is, 1, -1)\n",
    "\n",
    "# sepal length and petal length\n",
    "X = sample[['petal length in cm',\n",
    "    'petal width in cm']].values\n",
    "\n",
    "ppn = Perceptron(epochs=100, learning_rate=0.0001, verbose=False)\n",
    "\n",
    "ppn.fit(X, y)\n",
    "\n",
    "plot_decision_regions(X, y, clf=ppn)\n",
    "plt.title('Perceptron')\n",
    "plt.xlabel('petal length in cm')\n",
    "plt.ylabel('petal width in cm')\n",
    "plt.show()\n",
    "\n",
    "plt.plot(range(1, len(ppn._errors)+1), ppn._errors, marker='o')\n",
    "plt.xlabel('Iterations')\n",
    "plt.ylabel('Misclassifications')\n",
    "plt.show()"
   ]
  },
  {
   "cell_type": "code",
   "execution_count": null,
   "metadata": {},
   "outputs": [],
   "source": []
  },
  {
   "cell_type": "code",
   "execution_count": null,
   "metadata": {},
   "outputs": [],
   "source": []
  },
  {
   "cell_type": "code",
   "execution_count": null,
   "metadata": {},
   "outputs": [],
   "source": []
  },
  {
   "cell_type": "code",
   "execution_count": null,
   "metadata": {},
   "outputs": [],
   "source": []
  },
  {
   "cell_type": "code",
   "execution_count": null,
   "metadata": {},
   "outputs": [],
   "source": []
  },
  {
   "cell_type": "code",
   "execution_count": null,
   "metadata": {},
   "outputs": [],
   "source": []
  },
  {
   "cell_type": "code",
   "execution_count": null,
   "metadata": {},
   "outputs": [],
   "source": []
  },
  {
   "cell_type": "code",
   "execution_count": null,
   "metadata": {},
   "outputs": [],
   "source": []
  }
 ],
 "metadata": {
  "kernelspec": {
   "display_name": "Python 3",
   "language": "python",
   "name": "python3"
  },
  "language_info": {
   "codemirror_mode": {
    "name": "ipython",
    "version": 3
   },
   "file_extension": ".py",
   "mimetype": "text/x-python",
   "name": "python",
   "nbconvert_exporter": "python",
   "pygments_lexer": "ipython3",
   "version": "3.7.5"
  }
 },
 "nbformat": 4,
 "nbformat_minor": 2
}
